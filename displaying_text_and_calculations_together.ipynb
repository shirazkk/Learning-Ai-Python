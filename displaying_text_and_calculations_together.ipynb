{
  "nbformat": 4,
  "nbformat_minor": 0,
  "metadata": {
    "colab": {
      "provenance": [],
      "authorship_tag": "ABX9TyMMiMsQUPGQf6hG890n/2fR",
      "include_colab_link": true
    },
    "kernelspec": {
      "name": "python3",
      "display_name": "Python 3"
    },
    "language_info": {
      "name": "python"
    }
  },
  "cells": [
    {
      "cell_type": "markdown",
      "metadata": {
        "id": "view-in-github",
        "colab_type": "text"
      },
      "source": [
        "<a href=\"https://colab.research.google.com/github/shirazkk/Learning-Ai-Python/blob/main/displaying_text_and_calculations_together.ipynb\" target=\"_parent\"><img src=\"https://colab.research.google.com/assets/colab-badge.svg\" alt=\"Open In Colab\"/></a>"
      ]
    },
    {
      "cell_type": "code",
      "execution_count": null,
      "metadata": {
        "colab": {
          "base_uri": "https://localhost:8080/"
        },
        "id": "B4inLbrv_7sF",
        "outputId": "56d5151c-56b1-455c-9b97-9a307cdedf56"
      },
      "outputs": [
        {
          "output_type": "stream",
          "name": "stdout",
          "text": [
            "Isabel is 4.0 dog years old.\n"
          ]
        }
      ],
      "source": [
        "print(f\"Isabel is {28/7} dog years old.\")"
      ]
    },
    {
      "cell_type": "code",
      "source": [
        "print(f\"I am {20} years old\")"
      ],
      "metadata": {
        "colab": {
          "base_uri": "https://localhost:8080/"
        },
        "id": "q4yN248XADst",
        "outputId": "48741da3-3b26-4978-c55c-360f7f7e43e1"
      },
      "execution_count": null,
      "outputs": [
        {
          "output_type": "stream",
          "name": "stdout",
          "text": [
            "I am 20 years old\n"
          ]
        }
      ]
    },
    {
      "cell_type": "code",
      "source": [
        "# prompt:  Modify this code to print the answer without any characters after the decimal place: print(f\"Isabel's dog age is {28/7}.\")\n",
        "\n",
        "print(f\"Isabel is {int(28/7)} dog years old.\")\n"
      ],
      "metadata": {
        "colab": {
          "base_uri": "https://localhost:8080/"
        },
        "id": "PU6hgFoEAN6m",
        "outputId": "af426e9c-a4d1-46dc-b4a4-c4d72d7e6224"
      },
      "execution_count": null,
      "outputs": [
        {
          "output_type": "stream",
          "name": "stdout",
          "text": [
            "Isabel is 4 dog years old.\n"
          ]
        }
      ]
    },
    {
      "cell_type": "code",
      "source": [
        "print(f\"I am {28/7:.0f} years old\")"
      ],
      "metadata": {
        "colab": {
          "base_uri": "https://localhost:8080/"
        },
        "id": "FYbnAepLAXlH",
        "outputId": "53c27dfe-7ae4-42ea-a190-8076a3a8cf28"
      },
      "execution_count": null,
      "outputs": [
        {
          "output_type": "stream",
          "name": "stdout",
          "text": [
            "I am 4 years old\n"
          ]
        }
      ]
    },
    {
      "cell_type": "code",
      "source": [
        "# prompt: can you write something about anything and left some spaces where i can calculate anything.. code is this    print(f\"\"\" \"\"\")\n",
        "\n",
        "print(f\"\"\"\n",
        "I went to the store and bought {10 + 5} apples.\n",
        "Then I ate {2} apples and gave {3} apples to my friend.\n",
        "I have {10 + 5 - 2 - 3} apples left.\n",
        "\"\"\")\n"
      ],
      "metadata": {
        "colab": {
          "base_uri": "https://localhost:8080/"
        },
        "id": "ozrj3o55Awrn",
        "outputId": "d18715ce-a05d-480a-8b59-e7ec4117cab5"
      },
      "execution_count": null,
      "outputs": [
        {
          "output_type": "stream",
          "name": "stdout",
          "text": [
            "\n",
            "I went to the store and bought 15 apples. \n",
            "Then I ate 2 apples and gave 3 apples to my friend.\n",
            "I have 10 apples left.\n",
            "\n"
          ]
        }
      ]
    },
    {
      "cell_type": "markdown",
      "source": [
        "#Extra practice\n",
        "\n",
        "Try the exercises below to practice the concepts from this lesson. Read the comments in each cell with the instructions for each exercise.\n",
        "\n",
        "Feel free to use the chatbot if you need help.\n",
        "\n",
        "### Modify the code to print your age\n",
        "print(f\"I am {} years old.\")\n",
        "### Fix this code\n",
        "print(f\"There are {365/7 weeks in a year\")\n",
        "### Complete the code\n",
        "print(f\"The area of a square with side 5 cm is {} cm squared.\")\n",
        "### Modify the code to display one decimal place\n",
        "print(f\"The house was a good size: 1200 square feet, or {1200 * 0.092903} meters squared!\")"
      ],
      "metadata": {
        "id": "l9XL_ldeBrue"
      }
    },
    {
      "cell_type": "code",
      "source": [
        "#Modify the code to print your age\n",
        "print(f\"I am {40/2} years old.\")"
      ],
      "metadata": {
        "colab": {
          "base_uri": "https://localhost:8080/"
        },
        "id": "a6ZrcuZtBjlq",
        "outputId": "f6f38cfd-5db4-4725-ebc0-30fd80ce2187"
      },
      "execution_count": null,
      "outputs": [
        {
          "output_type": "stream",
          "name": "stdout",
          "text": [
            "I am 20.0 years old.\n"
          ]
        }
      ]
    },
    {
      "cell_type": "code",
      "source": [
        "#Modify the code to print your age in integar\n",
        "print(f\"I am {int(40/2)} years old.\")"
      ],
      "metadata": {
        "colab": {
          "base_uri": "https://localhost:8080/"
        },
        "id": "fRw7ItzDCGXf",
        "outputId": "17d2b186-1ccb-46c9-aad0-f0ffb854dcfb"
      },
      "execution_count": null,
      "outputs": [
        {
          "output_type": "stream",
          "name": "stdout",
          "text": [
            "I am 20 years old.\n"
          ]
        }
      ]
    },
    {
      "cell_type": "code",
      "source": [
        "#second method\n",
        "print(f\"I am {40/2:.0f} years old.\")\n",
        "print(f\"I am {40/2:.3f} years old.\")"
      ],
      "metadata": {
        "colab": {
          "base_uri": "https://localhost:8080/"
        },
        "id": "ZKcV3BZICcSh",
        "outputId": "49e1b529-f030-4850-9f25-75825607064a"
      },
      "execution_count": null,
      "outputs": [
        {
          "output_type": "stream",
          "name": "stdout",
          "text": [
            "I am 20 years old.\n",
            "I am 20.000 years old.\n"
          ]
        }
      ]
    },
    {
      "cell_type": "code",
      "source": [
        "#Fix this code\n",
        "print(f\"There are {365/7} weeks in a year\")\n",
        "#in integar\n",
        "print(f\"There are {int(365/7)} weeks in a year\")"
      ],
      "metadata": {
        "colab": {
          "base_uri": "https://localhost:8080/"
        },
        "id": "3YoLRJT7Cm6a",
        "outputId": "69003bc3-70e9-401b-c52a-510c2262e125"
      },
      "execution_count": null,
      "outputs": [
        {
          "output_type": "stream",
          "name": "stdout",
          "text": [
            "There are 52.142857142857146 weeks in a year\n",
            "There are 52 weeks in a year\n"
          ]
        }
      ]
    },
    {
      "cell_type": "code",
      "source": [
        "#Complete the code\n",
        "print(f\"The area of a square with side 5 cm is {5*5} cm squared.\")"
      ],
      "metadata": {
        "colab": {
          "base_uri": "https://localhost:8080/"
        },
        "id": "eFZanDkSC2qm",
        "outputId": "928bf9ce-bfae-4231-de1e-eaab232e7b9e"
      },
      "execution_count": null,
      "outputs": [
        {
          "output_type": "stream",
          "name": "stdout",
          "text": [
            "The area of a square with side 5 cm is 25 cm squared.\n"
          ]
        }
      ]
    },
    {
      "cell_type": "code",
      "source": [
        "#Modify the code to display one decimal place\n",
        "print(f\"The house was a good size: 1200 square feet, or {1200 * 0.092903:.1f} meters squared!\")"
      ],
      "metadata": {
        "colab": {
          "base_uri": "https://localhost:8080/"
        },
        "id": "7aUvQmIMD4Kl",
        "outputId": "464576a3-9f28-4f96-c7d8-be00aa518ee3"
      },
      "execution_count": null,
      "outputs": [
        {
          "output_type": "stream",
          "name": "stdout",
          "text": [
            "The house was a good size: 1200 square feet, or 111.5 meters squared!\n"
          ]
        }
      ]
    }
  ]
}