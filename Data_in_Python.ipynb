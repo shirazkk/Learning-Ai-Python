{
  "nbformat": 4,
  "nbformat_minor": 0,
  "metadata": {
    "colab": {
      "provenance": [],
      "authorship_tag": "ABX9TyMfXGXcS9I0vf7XdL63FjZd",
      "include_colab_link": true
    },
    "kernelspec": {
      "name": "python3",
      "display_name": "Python 3"
    },
    "language_info": {
      "name": "python"
    }
  },
  "cells": [
    {
      "cell_type": "markdown",
      "metadata": {
        "id": "view-in-github",
        "colab_type": "text"
      },
      "source": [
        "<a href=\"https://colab.research.google.com/github/shirazkk/Learning-Ai-Python/blob/main/Data_in_Python.ipynb\" target=\"_parent\"><img src=\"https://colab.research.google.com/assets/colab-badge.svg\" alt=\"Open In Colab\"/></a>"
      ]
    },
    {
      "cell_type": "markdown",
      "source": [
        "#Fix the errors in the following code cells.\n",
        "\n",
        "### Fix the error in the following code\n",
        "print(There are 366 days in a leap year\")\n",
        "### Fix the error in the following code\n",
        "print(\"There are 366\n",
        "days in a leap year\")\n",
        "A foot was defined as exactly 0.3048 meters in 1959. Convert 6 feet to meters.\n",
        "\n",
        "### Write code to convert 6 feet to meters\n",
        "print(\"Convert 6 feet to meters\")"
      ],
      "metadata": {
        "id": "Wz3kIIJ19R9D"
      }
    },
    {
      "cell_type": "code",
      "source": [
        "print(\"There are 366 days in a leap year\")"
      ],
      "metadata": {
        "colab": {
          "base_uri": "https://localhost:8080/"
        },
        "id": "sk2PIcNv9c-K",
        "outputId": "4c56692d-c0a6-4ff0-babc-55236327e430"
      },
      "execution_count": 5,
      "outputs": [
        {
          "output_type": "stream",
          "name": "stdout",
          "text": [
            "There are 366 days in a leap year\n"
          ]
        }
      ]
    },
    {
      "cell_type": "code",
      "source": [
        "print(\"There are 366 days in a leap year A foot was defined as exactly 0.3048 meters in 1959. Convert 6 feet to meters.\")"
      ],
      "metadata": {
        "colab": {
          "base_uri": "https://localhost:8080/"
        },
        "id": "QYIQG4tK9hSb",
        "outputId": "e96dbaf8-e8cc-4e2f-d635-9258eeb00986"
      },
      "execution_count": 6,
      "outputs": [
        {
          "output_type": "stream",
          "name": "stdout",
          "text": [
            "There are 366 days in a leap year A foot was defined as exactly 0.3048 meters in 1959. Convert 6 feet to meters.\n"
          ]
        }
      ]
    },
    {
      "cell_type": "code",
      "source": [
        "print(\"Convert 6 feet to meters\")\n",
        "feet=6\n",
        "meter=feet*0.3048\n",
        "print(meter,\"m\")"
      ],
      "metadata": {
        "colab": {
          "base_uri": "https://localhost:8080/"
        },
        "id": "n7UQNrrE9qnx",
        "outputId": "555f824c-732c-4cee-abbb-d3ee16c080d8"
      },
      "execution_count": 8,
      "outputs": [
        {
          "output_type": "stream",
          "name": "stdout",
          "text": [
            "Convert 6 feet to meters\n",
            "1.8288000000000002 m\n"
          ]
        }
      ]
    },
    {
      "cell_type": "code",
      "source": [],
      "metadata": {
        "id": "g4RSUha6-E_A"
      },
      "execution_count": null,
      "outputs": []
    }
  ]
}