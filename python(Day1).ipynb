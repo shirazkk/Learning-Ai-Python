{
  "nbformat": 4,
  "nbformat_minor": 0,
  "metadata": {
    "colab": {
      "provenance": [],
      "authorship_tag": "ABX9TyMrXvHOOj7IgAUqVN40reWH",
      "include_colab_link": true
    },
    "kernelspec": {
      "name": "python3",
      "display_name": "Python 3"
    },
    "language_info": {
      "name": "python"
    }
  },
  "cells": [
    {
      "cell_type": "markdown",
      "metadata": {
        "id": "view-in-github",
        "colab_type": "text"
      },
      "source": [
        "<a href=\"https://colab.research.google.com/github/shirazkk/Learning-Ai-Python/blob/main/python(Day1).ipynb\" target=\"_parent\"><img src=\"https://colab.research.google.com/assets/colab-badge.svg\" alt=\"Open In Colab\"/></a>"
      ]
    },
    {
      "cell_type": "code",
      "execution_count": 1,
      "metadata": {
        "colab": {
          "base_uri": "https://localhost:8080/"
        },
        "id": "tkUvbM-j6f83",
        "outputId": "ee44dedb-f920-4559-aa7e-f6ab81b4fc90"
      },
      "outputs": [
        {
          "output_type": "stream",
          "name": "stdout",
          "text": [
            "1.628894626777442\n"
          ]
        }
      ],
      "source": [
        "# prompt:  How do I compute 1.05 to the power of 10?\n",
        "\n",
        "result = 1.05 ** 10\n",
        "print(result)\n"
      ]
    },
    {
      "cell_type": "code",
      "source": [],
      "metadata": {
        "id": "dDu9K6196rQX"
      },
      "execution_count": null,
      "outputs": []
    }
  ]
}