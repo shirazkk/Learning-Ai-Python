{
  "nbformat": 4,
  "nbformat_minor": 0,
  "metadata": {
    "colab": {
      "provenance": [],
      "authorship_tag": "ABX9TyO1blMsN9QQcbeB8XLfUrxs",
      "include_colab_link": true
    },
    "kernelspec": {
      "name": "python3",
      "display_name": "Python 3"
    },
    "language_info": {
      "name": "python"
    }
  },
  "cells": [
    {
      "cell_type": "markdown",
      "metadata": {
        "id": "view-in-github",
        "colab_type": "text"
      },
      "source": [
        "<a href=\"https://colab.research.google.com/github/shirazkk/Learning-Ai-Python/blob/main/variables.ipynb\" target=\"_parent\"><img src=\"https://colab.research.google.com/assets/colab-badge.svg\" alt=\"Open In Colab\"/></a>"
      ]
    },
    {
      "cell_type": "code",
      "execution_count": null,
      "metadata": {
        "colab": {
          "base_uri": "https://localhost:8080/"
        },
        "id": "ocICMRTpFkCr",
        "outputId": "e1c64679-1b67-46f0-c6d1-8df46ba4653b"
      },
      "outputs": [
        {
          "output_type": "stream",
          "name": "stdout",
          "text": [
            "hello\n"
          ]
        }
      ],
      "source": [
        "a=\"hello\"\n",
        "print(a)"
      ]
    },
    {
      "cell_type": "code",
      "source": [
        "b:int=22;\n",
        "print(a)"
      ],
      "metadata": {
        "colab": {
          "base_uri": "https://localhost:8080/"
        },
        "id": "itai_NDeMmSY",
        "outputId": "cbb0f081-a6dd-4c46-c17c-53f87d5a0a92"
      },
      "execution_count": null,
      "outputs": [
        {
          "output_type": "stream",
          "name": "stdout",
          "text": [
            "22\n"
          ]
        }
      ]
    },
    {
      "cell_type": "code",
      "source": [
        "print(f\"my age is:{b}\")"
      ],
      "metadata": {
        "colab": {
          "base_uri": "https://localhost:8080/"
        },
        "id": "V2_S6YFSMtSh",
        "outputId": "c8958d2d-287c-4688-9723-49685ac2c882"
      },
      "execution_count": null,
      "outputs": [
        {
          "output_type": "stream",
          "name": "stdout",
          "text": [
            "my age is:22\n"
          ]
        }
      ]
    },
    {
      "cell_type": "markdown",
      "source": [
        "#Extra practice\n",
        "Try the exercises below to practice the concepts from this lesson. Read the comments in each cell with the instructions for each exercise.\n",
        "\n",
        "Feel free to use the chatbot if you need help.\n",
        "\n",
        "**Create a variable called 'my_name' and assign it the value of your name as a string.**\n",
        "**Then print out a greeting using the variable, like \"Hello, Andrew!\"**\n",
        "\n",
        "my_name =\n",
        "\n",
        "print()\n",
        "\n",
        "**Enter your favorite number below and store it in a variable called 'fav_num'.**\n",
        "**Print out a message telling you what your favorite number plus 10 is.**\n",
        "\n",
        "fav_num =\n",
        "\n",
        "print(f\"Your favorite number plus 10 is {}\")\n",
        "\n",
        "**Create two variables, 'countries_visited' and 'countries_to_visit' and assign them the number of countries you've been to and the number of countries you hope to visit. Then complete the print statement.**\n",
        "\n",
        "\n",
        "\n",
        "print(f\"\"\"I have visited {} countries. I plan to visit {} more countries,\n",
        "      and when I'm done I will have visited {} countries.\"\"\")"
      ],
      "metadata": {
        "id": "PQ3UVqQZNE7d"
      }
    },
    {
      "cell_type": "code",
      "source": [
        "#Create a variable called 'my_name' and assign it the value of your name as a string.\n",
        "# Then print out a greeting using the variable, like \"Hello, Andrew!\"\n",
        "my_name:str=\"Shiraz\"\n",
        "print(f\"Hello {my_name}\")\n"
      ],
      "metadata": {
        "colab": {
          "base_uri": "https://localhost:8080/"
        },
        "id": "E9W8a1uKM7To",
        "outputId": "87f8c833-7904-4d20-f311-ae7bf15a865f"
      },
      "execution_count": null,
      "outputs": [
        {
          "output_type": "stream",
          "name": "stdout",
          "text": [
            "Hello Shiraz\n"
          ]
        }
      ]
    },
    {
      "cell_type": "code",
      "source": [
        "# Enter your favorite number below and store it in a variable called 'fav_num'.\n",
        "# Print out a message telling you what your favorite number plus 10 is.\n",
        "fav_num:int=20\n",
        "print(f\"My favorite number plus 10 is {fav_num+10}\")"
      ],
      "metadata": {
        "colab": {
          "base_uri": "https://localhost:8080/"
        },
        "id": "Z9UikiUsPFuw",
        "outputId": "a3a5dc8f-1fd1-4c4a-fa3d-54465d21734a"
      },
      "execution_count": null,
      "outputs": [
        {
          "output_type": "stream",
          "name": "stdout",
          "text": [
            "My favorite number plus 10 is 30\n"
          ]
        }
      ]
    },
    {
      "cell_type": "code",
      "source": [
        "#Create two variables, 'countries_visited' and 'countries_to_visit' and assign them the number of countries\n",
        "#you've been to and the number of countries you hope to visit. Then complete the print statement.\n",
        "\n",
        "countries_visited:int=1\n",
        "countries_to_visit:int=2\n",
        "print(f\"\"\"I have visited {countries_visited} countries. I plan to visit {countries_to_visit}\n",
        "more countries,and when I'm done I will have visited {countries_visited+countries_to_visit} countries.\"\"\")"
      ],
      "metadata": {
        "colab": {
          "base_uri": "https://localhost:8080/"
        },
        "id": "AKzQ552JQuY9",
        "outputId": "fce07f04-4619-42b5-ec7e-9b6867d09975"
      },
      "execution_count": null,
      "outputs": [
        {
          "output_type": "stream",
          "name": "stdout",
          "text": [
            "I have visited 1 countries. I plan to visit 2\n",
            "more countries,and when I'm done I will have visited 3 countries.\n"
          ]
        }
      ]
    },
    {
      "cell_type": "code",
      "source": [],
      "metadata": {
        "id": "YbfZNcFiRI40"
      },
      "execution_count": null,
      "outputs": []
    }
  ]
}